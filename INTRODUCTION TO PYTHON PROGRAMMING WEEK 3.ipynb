{
 "cells": [
  {
   "cell_type": "markdown",
   "metadata": {},
   "source": [
    "# Data Science Nigeria: Introductory Python Training\n",
    "\n",
    "<img src= './Images/DSN.jpg', alt = \"Data Science Nigeria\" width= 600, height = 300/>"
   ]
  },
  {
   "cell_type": "markdown",
   "metadata": {},
   "source": [
    "# <font color=green> Week 3: Lists, Ranges & Tuples\n",
    "* Lists in Python\n",
    "* Iterators\n",
    "* Ranges\n",
    "* List Comprehension\n",
    "* Tuples"
   ]
  },
  {
   "cell_type": "markdown",
   "metadata": {},
   "source": [
    "## Iterators\n",
    "\n",
    ">Iter-ables are able to be iterated over. Iter-ators are the agents that perform the iteration\n",
    "\n",
    "They are generated from any iterable in Python by using the **iter** function"
   ]
  },
  {
   "cell_type": "code",
   "execution_count": 149,
   "metadata": {},
   "outputs": [
    {
     "name": "stdout",
     "output_type": "stream",
     "text": [
      "[0, 4] [] []\n"
     ]
    }
   ],
   "source": [
    "#After you’ve looped over an iterator once, it’ll be empty if you try to loop over it again:\n",
    "\n",
    "my_iterator = iter([0, 2])\n",
    "r1 = [x**2 for x in my_iterator]\n",
    "r2 = [x**2 for x in my_iterator]\n",
    "r3 = [x**2 for x in my_iterator]\n",
    "print(r1, r2, r3)"
   ]
  },
  {
   "cell_type": "markdown",
   "metadata": {},
   "source": [
    "## Ranges\n",
    "Using range() to create a list of numbers,to loop through a list and manipulate iteration, using the range() to perform list comprehensions\n",
    "\n",
    "Syntax : range(start, stop, step)\n",
    "\n",
    "And unlike an iterator, we can loop over a range object without consuming it:"
   ]
  },
  {
   "cell_type": "code",
   "execution_count": 150,
   "metadata": {},
   "outputs": [
    {
     "name": "stdout",
     "output_type": "stream",
     "text": [
      "[0, 1] [0, 1] [0, 1]\n"
     ]
    }
   ],
   "source": [
    "my_iterator = range(0,2)\n",
    "r1 = [x**2 for x in my_iterator]\n",
    "r2 = [x**2 for x in my_iterator]\n",
    "r3 = [x**2 for x in my_iterator]\n",
    "print(r1, r2, r3)"
   ]
  },
  {
   "cell_type": "markdown",
   "metadata": {},
   "source": [
    "## Lists in Python\n",
    "A list is a collection of arbitrary objects. It is more flexible than array because it accepts objects of different data types. Lists are defined in Python by enclosing a comma-separated sequence of objects in square brackets [] e.g. A = [2, 'Abebe', 6, 'Ope']\n",
    "\n",
    "Characteristics of Python lists are as follows:\n",
    "* Lists are mutable : \n",
    "   \n",
    "* Lists are ordered. \n",
    "    * [2, 'Abebe', 6, 'Ope', 2.45] != ['Abebe', 2, 'Ope', 6, 2.45]\n",
    "* Lists can contain objects different datatypes. \n",
    "    * 2, 6 :int\n",
    "    * 'Abebe', 'Ope' : str\n",
    "* List elements are accessible using index. \n",
    "    * A[2:4] = [6, 'Ope]\n",
    "* Lists can be nested to arbitrary depth.\n",
    "    * [2, ['Abey', 6],['Ope',2.45]] \n",
    "\n",
    "* Lists are dynamic."
   ]
  },
  {
   "cell_type": "code",
   "execution_count": 4,
   "metadata": {},
   "outputs": [],
   "source": [
    "#Create a List called A\n",
    "\n",
    "A = [2, 'Abebe', 6, 'Ope', 2.45]"
   ]
  },
  {
   "cell_type": "code",
   "execution_count": 43,
   "metadata": {},
   "outputs": [
    {
     "name": "stdout",
     "output_type": "stream",
     "text": [
      "Are elements in the 2 list ordered? False \n",
      "\n"
     ]
    }
   ],
   "source": [
    "#Is [2, 'Abebe', 6, 'Ope', 2.45] == ['Abebe', 2, 'Ope', 6, 2.45]? Confirming orderliness\n",
    "\n",
    "print('Are elements in the 2 list ordered?',[2, 'Abebe', 6, 'Ope', 2.45] == ['Abebe', 2, 'Ope', 6, 2.45], '\\n')"
   ]
  },
  {
   "cell_type": "code",
   "execution_count": 5,
   "metadata": {},
   "outputs": [
    {
     "name": "stdout",
     "output_type": "stream",
     "text": [
      "Lists that contain objects different datatypes\n",
      "2 is of type <class 'int'>\n",
      "Abebe is of type <class 'str'>\n",
      "6 is of type <class 'int'>\n",
      "Ope is of type <class 'str'>\n",
      "2.45 is of type <class 'float'>\n"
     ]
    }
   ],
   "source": [
    "#Lists can contain objects different datatypes\n",
    "\n",
    "print('Lists that contain objects different datatypes')\n",
    "for elements in A:\n",
    "    print(elements, 'is of type',type(elements))"
   ]
  },
  {
   "cell_type": "code",
   "execution_count": 6,
   "metadata": {},
   "outputs": [
    {
     "name": "stdout",
     "output_type": "stream",
     "text": [
      "3rd and 4th elements using positive index [6, 'Ope'] \n",
      "\n",
      "3rd and 4th elements using negative index [6, 'Ope']\n"
     ]
    }
   ],
   "source": [
    "#Accessing the 3rd and 4th elements of list using their index.\n",
    "\n",
    "print ('3rd and 4th elements using positive index', A[2:4],  '\\n') \n",
    "#Negative indices can also bde specified\n",
    "print ( '3rd and 4th elements using negative index', A[-3:-1]) #this produces a list"
   ]
  },
  {
   "cell_type": "code",
   "execution_count": 7,
   "metadata": {},
   "outputs": [
    {
     "name": "stdout",
     "output_type": "stream",
     "text": [
      "Omiitting the first index: [2, 'Abebe', 6, 'Ope', 2.45] [2, 'Abebe', 6, 'Ope', 2.45] \n",
      "\n",
      "Omiitting the second index: [2, 'Abebe', 6, 'Ope', 2.45] [2, 'Abebe', 6, 'Ope', 2.45]\n",
      "Merging of both indices omittion [2, 'Abebe', 6, 'Ope', 2.45]\n"
     ]
    }
   ],
   "source": [
    "#Omitting the first index starts the slice at the beginning of the list  \n",
    "print('Omiitting the first index:',A[:5], A[0:5], '\\n')\n",
    "\n",
    "#Omitting the second index extends the slice to the end of the list\n",
    "print('Omiitting the second index:', A[0:], A[0:len(A)])\n",
    "\n",
    "#Merging of both indices omittion produces the original list\n",
    "print('Merging of both indices omittion', A[:5] + A[5:])"
   ]
  },
  {
   "cell_type": "code",
   "execution_count": 8,
   "metadata": {},
   "outputs": [
    {
     "name": "stdout",
     "output_type": "stream",
     "text": [
      "1st to 4th element, step 2 [2, 6, 2.45]\n",
      "2nd to 4th element, step 2 ['Abebe', 2.45]\n",
      "Reversed 4th to 1st element, step 2 [2.45, 6]\n"
     ]
    }
   ],
   "source": [
    "#You can specify a step—either positive or negative\n",
    "\n",
    "print('1st to 4th element, step 2', A[0:5:2])\n",
    "\n",
    "print('2nd to 4th element, step 2', A[1:5:3])\n",
    "\n",
    "print('Reversed 4th to 1st element, step 2', A[4:0:-2])\n",
    "\n",
    "#Since indexing in Python starts at Zero, Upper band is excluded"
   ]
  },
  {
   "cell_type": "code",
   "execution_count": 9,
   "metadata": {},
   "outputs": [
    {
     "name": "stdout",
     "output_type": "stream",
     "text": [
      "[2.45, 'Ope', 6, 'Abebe', 2]\n"
     ]
    }
   ],
   "source": [
    "#You can reverse list elements\n",
    "print(A[::-1])"
   ]
  },
  {
   "cell_type": "code",
   "execution_count": 10,
   "metadata": {},
   "outputs": [
    {
     "name": "stdout",
     "output_type": "stream",
     "text": [
      "['Ope', 2.45, [0, 9.6, 'GHJ']]\n",
      "Abey\n",
      "9.6\n",
      "p\n"
     ]
    }
   ],
   "source": [
    "#List can be nested with sublists\n",
    "B = [2, ['Abey', 6],['Ope',2.45, [0, 9.6, 'GHJ']]] \n",
    "\n",
    "#Accessing the elements of list and sublists\n",
    "print(B[2])\n",
    "print(B[1][0])\n",
    "print(B[2][2][1])\n",
    "\n",
    "#String objects can also be nested\n",
    "print(B[2][0][1])"
   ]
  },
  {
   "cell_type": "code",
   "execution_count": 13,
   "metadata": {},
   "outputs": [
    {
     "name": "stdout",
     "output_type": "stream",
     "text": [
      "[[8, 'new'], ['Ope', 2.45, [0, 9.6, 'GHJ']]]\n",
      "[2, 'New1', 2.2, 3.3, 'Ope', 2.45]\n",
      "[2, 'New1', 2.2, 3.3, 3.3, 'Ope', 2.45]\n"
     ]
    }
   ],
   "source": [
    "#Elements of List can be modified\n",
    "B[0] =[8, 'new']\n",
    "print (B)\n",
    "print(A)\n",
    "A[1:3] = ['New1', 2.2, 3.3]\n",
    "print(A)"
   ]
  },
  {
   "cell_type": "code",
   "execution_count": 12,
   "metadata": {},
   "outputs": [
    {
     "name": "stdout",
     "output_type": "stream",
     "text": [
      "[['Abey', 6], ['Ope', 2.45, [0, 9.6, 'GHJ']]]\n"
     ]
    }
   ],
   "source": [
    "#A list item can be deleted with the del command\n",
    "del B[0]\n",
    "print (B)"
   ]
  },
  {
   "cell_type": "code",
   "execution_count": 58,
   "metadata": {},
   "outputs": [
    {
     "name": "stdout",
     "output_type": "stream",
     "text": [
      "[2, 'Abebe', 6, 'Ope', 2.45, 'Ayo', 'Peace', 14]\n"
     ]
    }
   ],
   "source": [
    "#list concatenation\n",
    "print(A + ['Ayo', 'Peace', 14])"
   ]
  },
  {
   "cell_type": "code",
   "execution_count": 18,
   "metadata": {},
   "outputs": [
    {
     "data": {
      "text/plain": [
       "[2, 'New1', 2.2, 3.3, 3.3, 'Ope', 2.45, 2, 'New1', 2.2, 3.3, 3.3, 'Ope', 2.45]"
      ]
     },
     "execution_count": 18,
     "metadata": {},
     "output_type": "execute_result"
    }
   ],
   "source": [
    "#list Replication\n",
    "A * 2"
   ]
  },
  {
   "cell_type": "code",
   "execution_count": 17,
   "metadata": {},
   "outputs": [
    {
     "name": "stdout",
     "output_type": "stream",
     "text": [
      "True\n",
      "True\n",
      "True\n",
      "False\n"
     ]
    }
   ],
   "source": [
    "#The in and not in operators:\n",
    "\n",
    "print('Ope'in A)\n",
    "\n",
    "print('Abebe' not in A)\n",
    "\n",
    "print(2.45 in A)\n",
    "\n",
    "print ('y' in A)"
   ]
  },
  {
   "cell_type": "markdown",
   "metadata": {},
   "source": [
    "# Other methods of List objects\n",
    "\n",
    "* list.append(x): Add an item to the end of the list. Equivalent to a[len(a):] = [x].\n",
    "\n",
    "\n",
    "* list.extend(iterable): Extend the list by appending all the items from the iterable. Equivalent to a[len(a):] = iterable.\n",
    "\n",
    "\n",
    "* list.insert(i, x): Insert an item at a given position. The first argument is the index of the element before which to insert, so a.insert(0, x) inserts at the front of the list, and a.insert(len(a), x) is equivalent to a.append(x).\n",
    "\n",
    "\n",
    "* list.remove(x): Remove the first item from the list whose value is equal to x. It raises a ValueError if there is no such item.\n",
    "\n",
    "\n",
    "* list.pop([i]): Remove the item at the given position in the list, and return it. If no index is specified, a.pop() removes and returns the last item in the list. (The square brackets around the i in the method signature denote that the parameter is optional, not that you should type square brackets at that position. \n",
    "\n",
    "\n",
    "* list.clear(): Remove all items from the list. Equivalent to del a[:].\n",
    "\n",
    "\n",
    "* list.index(x[, start[, end]]): Return zero-based index in the list of the first item whose value is equal to x. Raises a ValueError if there is no such item.\n",
    "\n",
    "\n",
    "* list.count(x): Return the number of times x appears in the list.\n",
    "\n",
    "\n",
    "* list.sort(key=None, reverse=False): Sort the items of the list in place (the arguments can be used for sort customization, see sorted() for their explanation).\n",
    "\n",
    "\n",
    "* list.reverse(): Reverse the elements of the list in place.\n",
    "\n",
    "\n",
    "* list.copy(): Return a shallow copy of the list. Equivalent to a[:]."
   ]
  },
  {
   "cell_type": "markdown",
   "metadata": {},
   "source": [
    "## List Comprehensions\n",
    "\n",
    "List comprehensions provide a concise way to create lists. Common applications are to make new lists where each element is the result of some operations applied to each member of another sequence or iterable, or to create a subsequence of those elements that satisfy a certain condition.\n",
    "\n"
   ]
  },
  {
   "cell_type": "code",
   "execution_count": 103,
   "metadata": {},
   "outputs": [
    {
     "name": "stdout",
     "output_type": "stream",
     "text": [
      "output using for [0, 1, 4, 9, 16]\n",
      "output using list comprehension [0, 1, 4, 9, 16]\n"
     ]
    }
   ],
   "source": [
    "#To create a list of sum of squares\n",
    "\n",
    "sum = []\n",
    "for x in range(5):\n",
    "    sum.append(x**2)\n",
    "print('output using for', sum)\n",
    "\n",
    "#The same could be written as a lis95t comprehension\n",
    "sum = [x**2 for x in range(5)]\n",
    "print ('output using list comprehension', sum)"
   ]
  },
  {
   "cell_type": "code",
   "execution_count": 115,
   "metadata": {},
   "outputs": [
    {
     "name": "stdout",
     "output_type": "stream",
     "text": [
      "output using for [0, 1, 2, 3]\n",
      "output using list comprehension [0, 1, 2, 3]\n"
     ]
    }
   ],
   "source": [
    "#To create a list of positive integers between -4 and 4\n",
    "result= []\n",
    "for x in range(-4,4):\n",
    "    if x >= 0:\n",
    "        result.append(x)\n",
    "print('output using for', result)\n",
    "\n",
    "\n",
    "#The same could be written as a list comprehension\n",
    "result = [x for x in range(-4,4) if x >= 0]\n",
    "print('output using list comprehension', result)"
   ]
  },
  {
   "cell_type": "code",
   "execution_count": 15,
   "metadata": {},
   "outputs": [
    {
     "name": "stdout",
     "output_type": "stream",
     "text": [
      "output using for [(0, 0), (1, 1), (2, 4), (3, 9), (4, 16), (5, 25)]\n",
      "output using list comprehension [(0, 0), (1, 1), (2, 4), (3, 9), (4, 16), (5, 25)]\n"
     ]
    }
   ],
   "source": [
    "#Using for statement to print a number and its square as coordinates\n",
    "\n",
    "result= []\n",
    "for x in range(6):\n",
    "    result.append((x,x**2))\n",
    "print('output using for', result)\n",
    "\n",
    "#With list comprehension\n",
    "\n",
    "print('output using list comprehension', [(x, x**2) for x in range(6)])"
   ]
  },
  {
   "cell_type": "markdown",
   "metadata": {},
   "source": [
    "## Tuples\n",
    "Lists work well for storing sets of items that can change throughout the life of a\n",
    "program. The ability to modify lists is particularly important when you’re working\n",
    "with a list of users on a website or a list of characters in a game. However,\n",
    "sometimes you’ll want to create a list of items that cannot change. Tuples allow you\n",
    "to do just that. Python refers to values that cannot change as immutable, and an\n",
    "immutable list is called a tuple.\n",
    "\n",
    "Tuple bojects has the following properties:\n",
    "\n",
    "* Tuples are defined by enclosing the elements in parentheses (()) instead of square brackets ([]).\n",
    "* Tuples are immutable."
   ]
  },
  {
   "cell_type": "code",
   "execution_count": 90,
   "metadata": {},
   "outputs": [
    {
     "name": "stdout",
     "output_type": "stream",
     "text": [
      "() \n",
      "\n",
      "(3, 7) \n",
      "\n",
      "(3,) \n",
      "\n",
      "(2, 'Abebe', 6, 'Ope', 2.45)\n",
      "(2, 'Abebe', 6, 'Ope', 2.45)\n"
     ]
    }
   ],
   "source": [
    "#tuple definition\n",
    "tuple_A = () \n",
    "print(tuple_A, '\\n') \n",
    "\n",
    "#trailing comma (,) just before the closing parenthesis to create a singleton tuple\n",
    "tuple_A1= (3,)\n",
    "print(tuple_A1'\\n')\n",
    "\n",
    "#enclosing elements in parenthesis\n",
    "tuple_B = (2, 'Abebe', 6, 'Ope', 2.45)\n",
    "print(tuple_B) \n",
    "\n",
    "#without Parenthesis\n",
    "tuple_C = 2, 'Abebe', 6, 'Ope', 2.45\n",
    "print(tuple_C) \n",
    "\n"
   ]
  },
  {
   "cell_type": "code",
   "execution_count": 79,
   "metadata": {},
   "outputs": [
    {
     "name": "stdout",
     "output_type": "stream",
     "text": [
      "((2, 'Abebe', 6, 'Ope', 2.45), (1, 2, 3, 4, 5))\n"
     ]
    }
   ],
   "source": [
    "# Tuples may be nested:\n",
    "\n",
    "tuple_D  = tuple_B, (1, 2, 3, 4, 5)\n",
    "print(tuple_D) "
   ]
  },
  {
   "cell_type": "code",
   "execution_count": 83,
   "metadata": {},
   "outputs": [
    {
     "name": "stdout",
     "output_type": "stream",
     "text": [
      "6\n",
      "A\n",
      "(3, 4)\n"
     ]
    }
   ],
   "source": [
    "#Tuple indexing, and slicing\n",
    "\n",
    "print(tuple_D[0][2])\n",
    "\n",
    "print(tuple_D[0][1][0])\n",
    "\n",
    "print(tuple_D[-1][2:4])"
   ]
  },
  {
   "cell_type": "code",
   "execution_count": 97,
   "metadata": {},
   "outputs": [
    {
     "name": "stdout",
     "output_type": "stream",
     "text": [
      "([1, 2, 3], [3, 2, 1])\n",
      "([1, 2, 5], [3, 2, 1])\n"
     ]
    },
    {
     "ename": "TypeError",
     "evalue": "'tuple' object does not support item assignment",
     "output_type": "error",
     "traceback": [
      "\u001b[1;31m---------------------------------------------------------------------------\u001b[0m",
      "\u001b[1;31mTypeError\u001b[0m                                 Traceback (most recent call last)",
      "\u001b[1;32m<ipython-input-97-4e59911c34be>\u001b[0m in \u001b[0;36m<module>\u001b[1;34m()\u001b[0m\n\u001b[0;32m     10\u001b[0m \u001b[1;33m\u001b[0m\u001b[0m\n\u001b[0;32m     11\u001b[0m \u001b[1;31m#Assigning an immutable tuple objects\u001b[0m\u001b[1;33m\u001b[0m\u001b[1;33m\u001b[0m\u001b[0m\n\u001b[1;32m---> 12\u001b[1;33m \u001b[0mtuple_E\u001b[0m\u001b[1;33m[\u001b[0m\u001b[1;36m1\u001b[0m\u001b[1;33m]\u001b[0m \u001b[1;33m=\u001b[0m \u001b[1;33m[\u001b[0m\u001b[1;36m5\u001b[0m\u001b[1;33m,\u001b[0m \u001b[1;36m7\u001b[0m\u001b[1;33m,\u001b[0m \u001b[1;36m9\u001b[0m\u001b[1;33m]\u001b[0m\u001b[1;33m\u001b[0m\u001b[0m\n\u001b[0m\u001b[0;32m     13\u001b[0m \u001b[1;33m\u001b[0m\u001b[0m\n\u001b[0;32m     14\u001b[0m \u001b[0mprint\u001b[0m\u001b[1;33m(\u001b[0m\u001b[0mtuple_E\u001b[0m\u001b[1;33m)\u001b[0m\u001b[1;33m\u001b[0m\u001b[0m\n",
      "\u001b[1;31mTypeError\u001b[0m: 'tuple' object does not support item assignment"
     ]
    }
   ],
   "source": [
    "# Tuples are but they can contain mutable objects\n",
    "tuple_E = ([1, 2, 3], [3, 2, 1])\n",
    "\n",
    "print(tuple_E)\n",
    "\n",
    "#Assigning mutable object of a tuple\n",
    "tuple_E[0][2] = 5\n",
    "\n",
    "print(tuple_E)\n",
    "\n",
    "#Assigning an immutable tuple objects\n",
    "tuple_E[1] = [5, 7, 9]\n",
    "\n",
    "print(tuple_E)\n"
   ]
  },
  {
   "cell_type": "markdown",
   "metadata": {},
   "source": [
    "# ASSIGNMENT 3\n",
    "\n",
    "Given that\n",
    "> A = [5, 8, 15, 7, 3]\n",
    "\n",
    "1. Write a Python program to sum all the items in A\n",
    "\n",
    "\n",
    "> Months = ['January', 'February', 'DSN', 'March', 'April', 'May', 'June', 'July','August', 'September', 'October', 'November']\n",
    "\n",
    "2.  Write a Python program to \n",
    "    * Get Months sorted in increasing order\n",
    "    * Add **December** to months\n",
    "    * Reverse elements of Months\n",
    "    * remove/delete 'DSN' form months"
   ]
  }
 ],
 "metadata": {
  "kernelspec": {
   "display_name": "Python 3",
   "language": "python",
   "name": "python3"
  },
  "language_info": {
   "codemirror_mode": {
    "name": "ipython",
    "version": 3
   },
   "file_extension": ".py",
   "mimetype": "text/x-python",
   "name": "python",
   "nbconvert_exporter": "python",
   "pygments_lexer": "ipython3",
   "version": "3.6.4"
  }
 },
 "nbformat": 4,
 "nbformat_minor": 2
}
