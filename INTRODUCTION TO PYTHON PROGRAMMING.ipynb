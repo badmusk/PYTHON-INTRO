{
 "cells": [
  {
   "cell_type": "markdown",
   "metadata": {},
   "source": [
    "# Course Outline"
   ]
  },
  {
   "cell_type": "code",
   "execution_count": 1,
   "metadata": {
    "scrolled": true
   },
   "outputs": [
    {
     "data": {
      "text/html": [
       "\n",
       "        <iframe\n",
       "            width=\"800\"\n",
       "            height=\"400\"\n",
       "            src=\"./Course Outline.pdf\"\n",
       "            frameborder=\"0\"\n",
       "            allowfullscreen\n",
       "        ></iframe>\n",
       "        "
      ],
      "text/plain": [
       "<IPython.lib.display.IFrame at 0x1c4530d81d0>"
      ]
     },
     "execution_count": 1,
     "metadata": {},
     "output_type": "execute_result"
    }
   ],
   "source": [
    "from IPython.display import IFrame\n",
    "IFrame (\"./Course Outline.pdf\", width = 800, height = 400)"
   ]
  },
  {
   "cell_type": "markdown",
   "metadata": {},
   "source": [
    "# Week 1: Introduction\n",
    " * Brief Introduction: Aims, Objectives and Deliverables\n",
    " * Python Setup\n",
    " * Python Basics: Variables, Operators, Strings, Input"
   ]
  },
  {
   "cell_type": "markdown",
   "metadata": {},
   "source": [
    "## Brief Introduction:\n",
    "* Why Programming? \n",
    "\n",
    "**Programming improves persepective to problem solving**\n",
    "> Note that, It is difficult for people to conceptualize structures they can’t describe, verbally or in writing \n",
    "\n",
    "* Types of Programming Language\n",
    "    1. High Level Language: Basic, Python, Java, C# etc\n",
    "    2. Low Level Language\n",
    "\n",
    "\n",
    "* Why Python?\n",
    "\n",
    "**Python is a general-purpose, beginner friendly language, which can be used to build virtually anything. It can be used for web development, desktop app development, gaming, data analysis, Artificial intellingence, scientific computing etc.**\n",
    "\n",
    ">The larger a community, the more likely you'd get help and the more people will be building useful tools to ease the process of development.\n",
    "\n",
    "\n",
    "* Python Setup\n",
    "\n",
    "For this training, we will be using one of the most popular framework used for data science and machine learning known as **Anaconda**. You can download the correct version of anaconda <a href=\"https://www.anaconda.com/distribution/\">here </a>as it relates to your op erating system – Windows, Mac or Linux.\n",
    "\n",
    "<img src= './Capture.jpg', width= 1000, height = 60000>"
   ]
  },
  {
   "cell_type": "markdown",
   "metadata": {},
   "source": [
    "# Python Basics"
   ]
  },
  {
   "cell_type": "markdown",
   "metadata": {},
   "source": [
    "## OPERANDS, OPERATORS and EXPRESSIONS\n",
    "\n",
    "**OPERANDS: ** \n",
    "\n",
    "**OPERATORS: ** Theses are signs and symbols used to manipulate values of operands\n",
    "\n",
    "**EXPRESSINS: **\n",
    "\n",
    "Types of Operator\n",
    "\n",
    "* Arithmetic Operators\n",
    "    +, -, /, %, //, \n",
    "* Comparison (Relational) Operators\n",
    "    ==, != or <>, >, <, >=, <=\n",
    "* Assignment Operators\n",
    "    =, +=, -+, *=, %=, /=\n",
    "* Logical Operators\n",
    "    AND, OR, not\n",
    "* Bitwise Operators\n",
    "    and, or, Xor, complement\n",
    "\n",
    "https://www.tutorialspoint.com/python/python_basic_operators.htm"
   ]
  },
  {
   "cell_type": "markdown",
   "metadata": {},
   "source": [
    "**Arithmetic operations**  \n"
   ]
  },
  {
   "cell_type": "code",
   "execution_count": 2,
   "metadata": {},
   "outputs": [
    {
     "data": {
      "text/plain": [
       "10"
      ]
     },
     "execution_count": 2,
     "metadata": {},
     "output_type": "execute_result"
    }
   ],
   "source": [
    "6 + 4"
   ]
  },
  {
   "cell_type": "code",
   "execution_count": 3,
   "metadata": {},
   "outputs": [
    {
     "data": {
      "text/plain": [
       "2"
      ]
     },
     "execution_count": 3,
     "metadata": {},
     "output_type": "execute_result"
    }
   ],
   "source": [
    "6 - 4"
   ]
  },
  {
   "cell_type": "code",
   "execution_count": 4,
   "metadata": {},
   "outputs": [
    {
     "data": {
      "text/plain": [
       "1.5"
      ]
     },
     "execution_count": 4,
     "metadata": {},
     "output_type": "execute_result"
    }
   ],
   "source": [
    "6 / 4"
   ]
  },
  {
   "cell_type": "code",
   "execution_count": 5,
   "metadata": {},
   "outputs": [
    {
     "data": {
      "text/plain": [
       "1"
      ]
     },
     "execution_count": 5,
     "metadata": {},
     "output_type": "execute_result"
    }
   ],
   "source": [
    "6 // 4"
   ]
  },
  {
   "cell_type": "code",
   "execution_count": 6,
   "metadata": {},
   "outputs": [
    {
     "data": {
      "text/plain": [
       "24"
      ]
     },
     "execution_count": 6,
     "metadata": {},
     "output_type": "execute_result"
    }
   ],
   "source": [
    "6 * 4"
   ]
  },
  {
   "cell_type": "code",
   "execution_count": 7,
   "metadata": {},
   "outputs": [
    {
     "data": {
      "text/plain": [
       "1296"
      ]
     },
     "execution_count": 7,
     "metadata": {},
     "output_type": "execute_result"
    }
   ],
   "source": [
    "6 ** 4"
   ]
  },
  {
   "cell_type": "code",
   "execution_count": 8,
   "metadata": {},
   "outputs": [
    {
     "data": {
      "text/plain": [
       "2"
      ]
     },
     "execution_count": 8,
     "metadata": {},
     "output_type": "execute_result"
    }
   ],
   "source": [
    "6 % 4"
   ]
  },
  {
   "cell_type": "markdown",
   "metadata": {},
   "source": [
    "**Relational Operations**  "
   ]
  },
  {
   "cell_type": "code",
   "execution_count": 9,
   "metadata": {},
   "outputs": [
    {
     "data": {
      "text/plain": [
       "False"
      ]
     },
     "execution_count": 9,
     "metadata": {},
     "output_type": "execute_result"
    }
   ],
   "source": [
    " 6 == 4"
   ]
  },
  {
   "cell_type": "code",
   "execution_count": 10,
   "metadata": {},
   "outputs": [
    {
     "data": {
      "text/plain": [
       "True"
      ]
     },
     "execution_count": 10,
     "metadata": {},
     "output_type": "execute_result"
    }
   ],
   "source": [
    "6 != 4"
   ]
  },
  {
   "cell_type": "code",
   "execution_count": 11,
   "metadata": {},
   "outputs": [
    {
     "data": {
      "text/plain": [
       "True"
      ]
     },
     "execution_count": 11,
     "metadata": {},
     "output_type": "execute_result"
    }
   ],
   "source": [
    "6 > 4"
   ]
  },
  {
   "cell_type": "code",
   "execution_count": 12,
   "metadata": {},
   "outputs": [
    {
     "data": {
      "text/plain": [
       "False"
      ]
     },
     "execution_count": 12,
     "metadata": {},
     "output_type": "execute_result"
    }
   ],
   "source": [
    "6 < 4"
   ]
  },
  {
   "cell_type": "code",
   "execution_count": 13,
   "metadata": {},
   "outputs": [
    {
     "data": {
      "text/plain": [
       "True"
      ]
     },
     "execution_count": 13,
     "metadata": {},
     "output_type": "execute_result"
    }
   ],
   "source": [
    "6 >= 4"
   ]
  },
  {
   "cell_type": "code",
   "execution_count": 14,
   "metadata": {},
   "outputs": [
    {
     "data": {
      "text/plain": [
       "False"
      ]
     },
     "execution_count": 14,
     "metadata": {},
     "output_type": "execute_result"
    }
   ],
   "source": [
    "6 <= 4"
   ]
  },
  {
   "cell_type": "markdown",
   "metadata": {},
   "source": [
    "### What if we have no idea of the numbers to  be added, subtracted, multiplied or divided?"
   ]
  },
  {
   "cell_type": "markdown",
   "metadata": {},
   "source": [
    "Then, we need boxes (memory locations) to recieve our unknown numbers, and at execution time, fetch the numbers to perform the required arithmetic task. The name given to the memory location is called **Variable**\n",
    "\n",
    "<table>\n",
    "<tr>\n",
    "<td><img src='var.jpg' width= 400, height = 200></td><td><img src='box.jpg' width= 400, height = 200></td> <td><img src='box2.jpg' width= 400, height = 200></td>\n",
    "</tr>\n",
    "<tr>\n",
    "    <td></td>\n",
    "    <td> <center> X <br> Y </td> \n",
    "    <td> <center> X = 42 <br> Y = 78 </td>\n",
    "</tr>   \n",
    "</table>"
   ]
  },
  {
   "cell_type": "code",
   "execution_count": 15,
   "metadata": {},
   "outputs": [
    {
     "name": "stdout",
     "output_type": "stream",
     "text": [
      "42\n"
     ]
    }
   ],
   "source": [
    "i = 42\n",
    "print(i)"
   ]
  },
  {
   "cell_type": "code",
   "execution_count": 16,
   "metadata": {},
   "outputs": [
    {
     "name": "stdout",
     "output_type": "stream",
     "text": [
      "50\n"
     ]
    }
   ],
   "source": [
    "A = 50\n",
    "print (A)"
   ]
  },
  {
   "cell_type": "code",
   "execution_count": null,
   "metadata": {},
   "outputs": [],
   "source": []
  },
  {
   "cell_type": "markdown",
   "metadata": {},
   "source": [
    "To know the location pointed to by each variable, an **id** function can be used"
   ]
  },
  {
   "cell_type": "code",
   "execution_count": 17,
   "metadata": {},
   "outputs": [
    {
     "name": "stdout",
     "output_type": "stream",
     "text": [
      "1888449280\n",
      "1888449536\n"
     ]
    }
   ],
   "source": [
    "print(id(i))\n",
    "print(id(A))"
   ]
  },
  {
   "cell_type": "markdown",
   "metadata": {},
   "source": [
    "_NOTE: The memory location named **i** is dynamic and could be made to store something differnt from 42, say 100_"
   ]
  },
  {
   "cell_type": "code",
   "execution_count": 18,
   "metadata": {},
   "outputs": [
    {
     "name": "stdout",
     "output_type": "stream",
     "text": [
      "44\n"
     ]
    }
   ],
   "source": [
    "i = i+2\n",
    "print(i)"
   ]
  },
  {
   "cell_type": "code",
   "execution_count": 19,
   "metadata": {},
   "outputs": [
    {
     "name": "stdout",
     "output_type": "stream",
     "text": [
      "50\n"
     ]
    }
   ],
   "source": [
    "i = A\n",
    "\n",
    "print(i)"
   ]
  },
  {
   "cell_type": "markdown",
   "metadata": {},
   "source": [
    "**_Therefore,_**\n",
    "\n",
    "> A **variable** is an identifier that reference a memory location whose value can be changed during the execution of a program"
   ]
  },
  {
   "cell_type": "code",
   "execution_count": 20,
   "metadata": {},
   "outputs": [
    {
     "name": "stdout",
     "output_type": "stream",
     "text": [
      "1888449536\n",
      "1888449536\n"
     ]
    }
   ],
   "source": [
    "print(id(i))\n",
    "print(id(A))"
   ]
  },
  {
   "cell_type": "markdown",
   "metadata": {},
   "source": [
    "###### NOTE: There the rules for naming valid variables"
   ]
  },
  {
   "cell_type": "markdown",
   "metadata": {},
   "source": [
    "# PYTHON DATA TYPES"
   ]
  },
  {
   "cell_type": "markdown",
   "metadata": {},
   "source": [
    "The basic data types in Python are:\n",
    "* Integers\n",
    "* Floating-Point Numbers\n",
    "* Complex Numbers\n",
    "* Strings\n",
    "* Boolean Type\n",
    "\n",
    ">Data Type Conversion can be done easily with python\n"
   ]
  },
  {
   "cell_type": "markdown",
   "metadata": {},
   "source": [
    "**Integer**"
   ]
  },
  {
   "cell_type": "code",
   "execution_count": 21,
   "metadata": {},
   "outputs": [
    {
     "name": "stdout",
     "output_type": "stream",
     "text": [
      "10 1000 3000\n",
      "50\n"
     ]
    }
   ],
   "source": [
    "print(10, 1000, 3000)\n",
    "print (A)"
   ]
  },
  {
   "cell_type": "markdown",
   "metadata": {},
   "source": [
    "**Floating Point**"
   ]
  },
  {
   "cell_type": "code",
   "execution_count": 22,
   "metadata": {},
   "outputs": [
    {
     "name": "stdout",
     "output_type": "stream",
     "text": [
      "16.666666666666668\n",
      "0.0042\n",
      "4000000.0\n"
     ]
    }
   ],
   "source": [
    "B = A/3\n",
    "print(B)\n",
    "\n",
    "print(4.2e-3)\n",
    "print(.4e7)"
   ]
  },
  {
   "cell_type": "markdown",
   "metadata": {},
   "source": [
    "**Complex Number**"
   ]
  },
  {
   "cell_type": "code",
   "execution_count": 23,
   "metadata": {},
   "outputs": [
    {
     "name": "stdout",
     "output_type": "stream",
     "text": [
      "(4+13j)\n"
     ]
    }
   ],
   "source": [
    "C1= 3+5j\n",
    "C2 = 1+8j\n",
    "C = C1 +C2\n",
    "print(C)"
   ]
  },
  {
   "cell_type": "markdown",
   "metadata": {},
   "source": [
    "**String**\n",
    "A string is defined as sequence of character enlosed in a quote. "
   ]
  },
  {
   "cell_type": "code",
   "execution_count": 24,
   "metadata": {},
   "outputs": [
    {
     "name": "stdout",
     "output_type": "stream",
     "text": [
      "Hello World\n"
     ]
    }
   ],
   "source": [
    "D= 'Hello World'\n",
    "s= \"This is also a string\"\n",
    "print(D)"
   ]
  },
  {
   "cell_type": "markdown",
   "metadata": {},
   "source": [
    "_Note: If a string itself contains a quote, for instance, '**I'm a boy**', delimit the string with another quote_"
   ]
  },
  {
   "cell_type": "code",
   "execution_count": 25,
   "metadata": {},
   "outputs": [
    {
     "name": "stdout",
     "output_type": "stream",
     "text": [
      "It sound\"s great!\n",
      "This is also a string\n"
     ]
    }
   ],
   "source": [
    "S = 'It sound\"s great!'\n",
    "print (S)\n",
    "print(s)"
   ]
  },
  {
   "cell_type": "markdown",
   "metadata": {},
   "source": [
    "**Triple-Quoted String**"
   ]
  },
  {
   "cell_type": "code",
   "execution_count": 26,
   "metadata": {},
   "outputs": [
    {
     "name": "stdout",
     "output_type": "stream",
     "text": [
      "This is a\n",
      "string that spans\n",
      "across several lines\n",
      "It is called, Triple-Quoted String\n"
     ]
    }
   ],
   "source": [
    "MS = \"\"\"This is a\n",
    "string that spans\n",
    "across several lines\n",
    "It is called, Triple-Quoted String\"\"\"\n",
    "\n",
    "print(MS)"
   ]
  },
  {
   "cell_type": "markdown",
   "metadata": {},
   "source": [
    "<b>String Escape Sequences</b>\n",
    "These combine different characters with backslash(\\) to perform some task. The most commenly used ones are : \n",
    "\n",
    "* \\n: New line\n",
    "* \\\\: Backslash (\\)\n",
    "* \\': Single quote (')\n",
    "* \\\": Double quote (\")\n",
    "* \\r: Carriage Return (CR)\n",
    "* \\t: Horizontal Tab (TAB)\n"
   ]
  },
  {
   "cell_type": "code",
   "execution_count": 34,
   "metadata": {},
   "outputs": [
    {
     "name": "stdout",
     "output_type": "stream",
     "text": [
      "This is a \n",
      " string that spans \n",
      " across several lines \n",
      " using NEW LINE escape sequence\n",
      "I need this string\\ to reflect a backslash\n",
      "This is a string' with single quote\n",
      "This is a string\" with single quote\n",
      "This is a string\t with horizontal tab\n"
     ]
    }
   ],
   "source": [
    "s1 = \"This is a \\n string that spans \\n across several lines \\n using NEW LINE escape sequence\"\n",
    "s2 = \"I need this string\\ to reflect a backslash\"\n",
    "s3 = 'This is a string\\' with single quote'\n",
    "s4 = 'This is a string\\\" with single quote'\n",
    "s5 = 'This is a string\\t with horizontal tab'\n",
    "\n",
    "print (s1)\n",
    "print (s2)\n",
    "print (s3)\n",
    "print (s4)\n",
    "print(s5)"
   ]
  },
  {
   "cell_type": "markdown",
   "metadata": {},
   "source": [
    "<b>String Indexing</b>\n",
    "Since Strings are array of character, string elements (characters) are accessible with the use of indices. \n",
    "\n",
    "The first element of a string has index 0\n",
    "<img src='string.jpg' width= 400, height = 200>\n",
    "\n",
    "<b>String Slicing</b>\n",
    "Accessing characters of a string through indexing"
   ]
  },
  {
   "cell_type": "code",
   "execution_count": 28,
   "metadata": {},
   "outputs": [
    {
     "name": "stdout",
     "output_type": "stream",
     "text": [
      "H d\n",
      "World\n"
     ]
    }
   ],
   "source": [
    "print(D[0], D[-1])\n",
    "\n",
    "p = D[6:11]\n",
    "print(p)"
   ]
  },
  {
   "cell_type": "markdown",
   "metadata": {},
   "source": [
    "> NOTE: Indexing starts at 0 and upperbound is always excluded"
   ]
  },
  {
   "cell_type": "markdown",
   "metadata": {},
   "source": [
    "**String Concatenation**\n",
    "This is the process of joining two (2) or more strings together"
   ]
  },
  {
   "cell_type": "code",
   "execution_count": 29,
   "metadata": {},
   "outputs": [
    {
     "name": "stdout",
     "output_type": "stream",
     "text": [
      "Hello WorldWorld\n"
     ]
    }
   ],
   "source": [
    "S_Concat = D + p\n",
    "print (S_Concat)"
   ]
  },
  {
   "cell_type": "code",
   "execution_count": 30,
   "metadata": {},
   "outputs": [
    {
     "data": {
      "text/plain": [
       "11"
      ]
     },
     "execution_count": 30,
     "metadata": {},
     "output_type": "execute_result"
    }
   ],
   "source": [
    "len(D)"
   ]
  },
  {
   "cell_type": "markdown",
   "metadata": {},
   "source": [
    "**String Methods**\n",
    "Python has a set of built-in methods that you can use on strings. These methods return new values without changing the original string.\n",
    "\n",
    "| Method | Description\n",
    "| --- | --- | \n",
    "|capitalize()\t|Converts the first character to upper case\n",
    "|casefold()\t| Converts string into lower case\n",
    "|center()\t| Returns a centered string\n",
    "|count()\t| Returns the number of times a specified value occurs in a string\n",
    "|encode()\t| Returns an encoded version of the string\n",
    "|endswith()\t| Returns true if the string ends with the specified value\n",
    "|expandtabs()\t| Sets the tab size of the string\n",
    "|find()\t| Searches the string for a specified value and returns the position of where it was found\n",
    "|format()\t| Formats specified values in a string\n",
    "|format_map()\t| Formats specified values in a string\n",
    "|index()\t| Searches the string for a specified value and returns the position of where it was found\n",
    "|isalnum()\t| Returns True if all characters in the string are alphanumeric\n",
    "|isalpha()\t| Returns True if all characters in the string are in the alphabet\n",
    "|isdecimal()\t| Returns True if all characters in the string are decimals\n",
    "|isdigit()\t| Returns True if all characters in the string are digits\n",
    "|isidentifier()\t| Returns True if the string is an identifier\n",
    "|islower()\t| Returns True if all characters in the string are lower case\n",
    "|isnumeric()\t| Returns True if all characters in the string are numeric\n",
    "|isprintable()\t| Returns True if all characters in the string are printable\n",
    "|isspace()\t| Returns True if all characters in the string are whitespaces\n",
    "|istitle()\t| Returns True if the string follows the rules of a title\n",
    "|isupper()\t| Returns True if all characters in the string are upper case\n",
    "|join()\t | Joins the elements of an iterable to the end of the string\n",
    "|ljust()\t| Returns a left justified version of the string\n",
    "|lower()\t| Converts a string into lower case\n",
    "|lstrip()\t| Returns a left trim version of the string\n",
    "|maketrans()\t| Returns a translation table to be used in translations\n",
    "|partition()\t| Returns a tuple where the string is parted into three parts\n",
    "|replace()\t| Returns a string where a specified value is replaced with a specified value\n",
    "|rfind()\t| Searches the string for a specified value and returns the last position of where it was found\n",
    "|rindex()\t| Searches the string for a specified value and returns the last position of where it was found\n",
    "|rjust()\t| Returns a right justified version of the string\n",
    "|rpartition()\t| Returns a tuple where the string is parted into three parts\n",
    "|rsplit()\t| Splits the string at the specified separator, and returns a list\n",
    "|rstrip()\t| Returns a right trim version of the string\n",
    "|split()\t| Splits the string at the specified separator, and returns a list\n",
    "|splitlines()\t| Splits the string at line breaks and returns a list\n",
    "|startswith()\t| Returns true if the string starts with the specified value\n",
    "|strip()\t| Returns a trimmed version of the string\n",
    "|swapcase()\t| Swaps cases, lower case becomes upper case and vice versa\n",
    "|title()\t| Converts the first character of each word to upper case\n",
    "|translate()\t| Returns a translated string\n",
    "|upper()\t| Converts a string into upper case\n",
    "|zfill()\t| Fills the string with a specified number of 0 values at the beginning   "
   ]
  },
  {
   "cell_type": "markdown",
   "metadata": {},
   "source": [
    "# Assignment 1\n",
    "\n",
    "With at least 2 examples in each case, implement 10 string methods  "
   ]
  },
  {
   "cell_type": "markdown",
   "metadata": {},
   "source": [
    "**Boolean**"
   ]
  },
  {
   "cell_type": "code",
   "execution_count": 31,
   "metadata": {},
   "outputs": [
    {
     "name": "stdout",
     "output_type": "stream",
     "text": [
      "True\n",
      "False\n"
     ]
    }
   ],
   "source": [
    "t = True\n",
    "f = False\n",
    "print(t)\n",
    "print (f)"
   ]
  },
  {
   "cell_type": "code",
   "execution_count": 32,
   "metadata": {},
   "outputs": [
    {
     "name": "stdout",
     "output_type": "stream",
     "text": [
      "False\n"
     ]
    }
   ],
   "source": [
    "a= 'DSN'\n",
    "b = 'Nigeria'\n",
    "c= a == b\n",
    "print(c)"
   ]
  },
  {
   "cell_type": "markdown",
   "metadata": {},
   "source": [
    ">To determine the data type of an object, we can use\n",
    "\n",
    ">**type(_objectname_)**"
   ]
  },
  {
   "cell_type": "code",
   "execution_count": 33,
   "metadata": {},
   "outputs": [
    {
     "name": "stdout",
     "output_type": "stream",
     "text": [
      "<class 'int'>\n",
      "<class 'float'>\n",
      "<class 'str'>\n",
      "<class 'str'>\n",
      "<class 'str'>\n",
      "<class 'bool'>\n"
     ]
    }
   ],
   "source": [
    "print(type(A))\n",
    "print(type(B))\n",
    "print(type(MS))\n",
    "print(type(a))\n",
    "print(type(b))\n",
    "print(type(c))"
   ]
  },
  {
   "cell_type": "code",
   "execution_count": 1,
   "metadata": {},
   "outputs": [
    {
     "name": "stdout",
     "output_type": "stream",
     "text": [
      "5\n"
     ]
    }
   ],
   "source": [
    "Loc1= input()\n"
   ]
  },
  {
   "cell_type": "code",
   "execution_count": 39,
   "metadata": {},
   "outputs": [
    {
     "name": "stdout",
     "output_type": "stream",
     "text": [
      "3\n"
     ]
    }
   ],
   "source": [
    "print(Loc1)"
   ]
  },
  {
   "cell_type": "code",
   "execution_count": null,
   "metadata": {},
   "outputs": [],
   "source": []
  },
  {
   "cell_type": "code",
   "execution_count": null,
   "metadata": {},
   "outputs": [],
   "source": []
  },
  {
   "cell_type": "code",
   "execution_count": null,
   "metadata": {},
   "outputs": [],
   "source": []
  },
  {
   "cell_type": "code",
   "execution_count": null,
   "metadata": {},
   "outputs": [],
   "source": []
  },
  {
   "cell_type": "code",
   "execution_count": null,
   "metadata": {},
   "outputs": [],
   "source": []
  },
  {
   "cell_type": "code",
   "execution_count": null,
   "metadata": {},
   "outputs": [],
   "source": []
  },
  {
   "cell_type": "code",
   "execution_count": null,
   "metadata": {},
   "outputs": [],
   "source": []
  },
  {
   "cell_type": "code",
   "execution_count": null,
   "metadata": {},
   "outputs": [],
   "source": []
  },
  {
   "cell_type": "code",
   "execution_count": null,
   "metadata": {},
   "outputs": [],
   "source": []
  }
 ],
 "metadata": {
  "kernelspec": {
   "display_name": "Python 3",
   "language": "python",
   "name": "python3"
  },
  "language_info": {
   "codemirror_mode": {
    "name": "ipython",
    "version": 3
   },
   "file_extension": ".py",
   "mimetype": "text/x-python",
   "name": "python",
   "nbconvert_exporter": "python",
   "pygments_lexer": "ipython3",
   "version": "3.6.4"
  }
 },
 "nbformat": 4,
 "nbformat_minor": 2
}
